{
  "nbformat": 4,
  "nbformat_minor": 0,
  "metadata": {
    "colab": {
      "provenance": [],
      "authorship_tag": "ABX9TyOqdy/+uyNzBqGD5D464e2d",
      "include_colab_link": true
    },
    "kernelspec": {
      "name": "python3",
      "display_name": "Python 3"
    },
    "language_info": {
      "name": "python"
    }
  },
  "cells": [
    {
      "cell_type": "markdown",
      "metadata": {
        "id": "view-in-github",
        "colab_type": "text"
      },
      "source": [
        "<a href=\"https://colab.research.google.com/github/ayundina/math_club/blob/main/problems/week01_calculus.ipynb\" target=\"_parent\"><img src=\"https://colab.research.google.com/assets/colab-badge.svg\" alt=\"Open In Colab\"/></a>"
      ]
    },
    {
      "cell_type": "markdown",
      "source": [
        "### Sources\n",
        "\n",
        "**To read**<br>\n",
        "[Essential Math for Data Science by Thomas Nield](https://download.bibis.ir/Books/Mathematics/2022/Essential-Math-for-Data-Science-by-Thomas-Nield_bibis.ir.pdf)\n",
        "- Basic Math and Calculus Review (pages 14-72)\n",
        "\n",
        "**To watch**<br>\n",
        "[Derivatives of power functions](https://www.brightstorm.com/math/calculus/the-derivative/derivatives-of-power-functions/)<br>\n",
        "[Derivatives of polynomial function](https://www.brightstorm.com/math/calculus/the-derivative/derivatives-of-polynomial-functions/)<br>\n",
        "[Integrals - approximating area using rectangles](https://www.brightstorm.com/math/calculus/the-definite-integral/approximating-area-using-rectangles/)\n",
        "\n",
        "**To solve**<br>"
      ],
      "metadata": {
        "id": "Uq_wrrx16pRu"
      }
    },
    {
      "cell_type": "markdown",
      "source": [
        "### Exercise #1\n",
        "Is the value 62.6738 rational or irrational? Why or why not?"
      ],
      "metadata": {
        "id": "S_Xhl9hg7Axs"
      }
    },
    {
      "cell_type": "markdown",
      "source": [
        "##### Solution #1"
      ],
      "metadata": {
        "id": "H_ynF5A37FTx"
      }
    },
    {
      "cell_type": "markdown",
      "source": [
        "62.6738 is rational because it has a finite number of decimal places, and therefore can be expressed as a fraction 626738 / 10000"
      ],
      "metadata": {
        "id": "ynjcitb57I3T"
      }
    },
    {
      "cell_type": "markdown",
      "source": [
        "### Exercise #2\n",
        "Evaluate the expression: $10^710^{-5}$"
      ],
      "metadata": {
        "id": "QHA_6-Vd7UQm"
      }
    },
    {
      "cell_type": "markdown",
      "source": [
        "##### Solution #2"
      ],
      "metadata": {
        "id": "6qU6fUOu8PoW"
      }
    },
    {
      "cell_type": "markdown",
      "source": [
        "$10^710^{-5}=10^{7+-5}=10^2=100$"
      ],
      "metadata": {
        "id": "oFehxphl8Qkb"
      }
    },
    {
      "cell_type": "markdown",
      "source": [
        "### Exercise #3\n",
        "Evaluate the expression: $82^{1/2}$"
      ],
      "metadata": {
        "id": "fm8brflq8Q8u"
      }
    },
    {
      "cell_type": "markdown",
      "source": [
        "##### Solution #3"
      ],
      "metadata": {
        "id": "XCaCsQh28Re8"
      }
    },
    {
      "cell_type": "markdown",
      "source": [
        "$82^{1/2}=\\sqrt{82}=9$"
      ],
      "metadata": {
        "id": "fdCA97NY8-aY"
      }
    },
    {
      "cell_type": "markdown",
      "source": [
        "### Exercise #4\n",
        "Evaluate the expression: $25^{3/2}$"
      ],
      "metadata": {
        "id": "F5jHeAPt8-57"
      }
    },
    {
      "cell_type": "markdown",
      "source": [
        "##### Solution #4"
      ],
      "metadata": {
        "id": "shiXjLXx9dBb"
      }
    },
    {
      "cell_type": "markdown",
      "source": [
        "$25^{3/2}=(\\sqrt{25})^3=5^3=5*5*5=125$"
      ],
      "metadata": {
        "id": "L1HFB9h29d-h"
      }
    },
    {
      "cell_type": "markdown",
      "source": [
        "### Exercise #5\n",
        "Assuming no payments are made, how much would a $1,000 loan be worth at 5% interest **compounded monthly** after 3 years?"
      ],
      "metadata": {
        "id": "BXLUWAu99lLW"
      }
    },
    {
      "cell_type": "markdown",
      "source": [
        "##### Solution #5"
      ],
      "metadata": {
        "id": "lc9C2mbF9sxK"
      }
    },
    {
      "cell_type": "markdown",
      "source": [
        "Using the compounding interest formula $A=P*(1+r/n)^{nt}$"
      ],
      "metadata": {
        "id": "5e_P0X-e9vlf"
      }
    },
    {
      "cell_type": "code",
      "source": [
        "from math import exp\n",
        "\n",
        "p = 1000  # initial amount\n",
        "r = 0.05  # interest rate, per month\n",
        "t = 3     # time in years\n",
        "n = 12    # months per year\n",
        "\n",
        "a = p * (1+(r/n))**(n*t)\n",
        "print(a)"
      ],
      "metadata": {
        "colab": {
          "base_uri": "https://localhost:8080/"
        },
        "id": "g3a-KTaMCj7m",
        "outputId": "3038815c-62ab-492d-930f-25ea61576fd0"
      },
      "execution_count": 4,
      "outputs": [
        {
          "output_type": "stream",
          "name": "stdout",
          "text": [
            "1161.4722313334678\n"
          ]
        }
      ]
    },
    {
      "cell_type": "markdown",
      "source": [
        "### Exercise #6\n",
        "Assuming no payments are made, how much would a $1,000 loan be worth at 5% interest **compounded continuously** after 3 years?"
      ],
      "metadata": {
        "id": "TL6Qlf359wGD"
      }
    },
    {
      "cell_type": "markdown",
      "source": [
        "##### Solution #6"
      ],
      "metadata": {
        "id": "HVaeE97--P8b"
      }
    },
    {
      "cell_type": "markdown",
      "source": [
        "Using the continious interest formula $A=P*e^{rt}$"
      ],
      "metadata": {
        "id": "tfjHgKUP-Tvy"
      }
    },
    {
      "cell_type": "code",
      "source": [
        "from math import exp\n",
        "\n",
        "p = 1000 # initial amount\n",
        "r = 0.05 # interest rate, per month\n",
        "t = 3 # time in years\n",
        "\n",
        "a = p * exp(r*t)\n",
        "print(a)"
      ],
      "metadata": {
        "colab": {
          "base_uri": "https://localhost:8080/"
        },
        "id": "6YcR7FhpE2n6",
        "outputId": "f60c379e-ccd7-4993-af7e-ff3fd0dcc5d3"
      },
      "execution_count": 5,
      "outputs": [
        {
          "output_type": "stream",
          "name": "stdout",
          "text": [
            "1161.834242728283\n"
          ]
        }
      ]
    },
    {
      "cell_type": "markdown",
      "source": [
        "### Exercise #7\n",
        "For the function $f(x)=3x^2+1$ what is the slope at x = 3?"
      ],
      "metadata": {
        "id": "3NKTiOf0955q"
      }
    },
    {
      "cell_type": "markdown",
      "source": [
        "##### Solution #7"
      ],
      "metadata": {
        "id": "brj6sTiC-VD_"
      }
    },
    {
      "cell_type": "markdown",
      "source": [
        "Derivative of $f(x)=3x^2+1$:\n",
        "\n",
        "$$\\frac{d}{dx}=3\\frac{d}{dx}x^2+\\frac{d}{dx}1=3*2x=6x$$\n",
        "\n",
        "If x=3:\n",
        "$$6*3=18$$"
      ],
      "metadata": {
        "id": "0VV-_iTfGOZT"
      }
    },
    {
      "cell_type": "markdown",
      "source": [
        "### Exercise #7\n",
        "For the function $f(x)=3x^2+1$ what is the area under the curve for\n",
        "x between 0 and 2?"
      ],
      "metadata": {
        "id": "ZQdp2Q0T-Ior"
      }
    },
    {
      "cell_type": "markdown",
      "source": [
        "##### Solution #8"
      ],
      "metadata": {
        "id": "dUvEtKzB-Xs0"
      }
    },
    {
      "cell_type": "markdown",
      "source": [],
      "metadata": {
        "id": "FCoRJmJ4-Y6u"
      }
    }
  ]
}