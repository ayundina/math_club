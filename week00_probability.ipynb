{
  "nbformat": 4,
  "nbformat_minor": 0,
  "metadata": {
    "colab": {
      "provenance": [],
      "authorship_tag": "ABX9TyP6r65QRwqGpWK4C8hEoBQv",
      "include_colab_link": true
    },
    "kernelspec": {
      "name": "python3",
      "display_name": "Python 3"
    },
    "language_info": {
      "name": "python"
    }
  },
  "cells": [
    {
      "cell_type": "markdown",
      "metadata": {
        "id": "view-in-github",
        "colab_type": "text"
      },
      "source": [
        "<a href=\"https://colab.research.google.com/github/ayundina/math_club/blob/main/week00_probability.ipynb\" target=\"_parent\"><img src=\"https://colab.research.google.com/assets/colab-badge.svg\" alt=\"Open In Colab\"/></a>"
      ]
    },
    {
      "cell_type": "markdown",
      "source": [
        "### Probability mathematical symbols\n",
        "\n",
        "Ω (big omega) - sample space <br>\n",
        "ω (omega) ∈ Ω - a sample outcome<br>\n",
        "∈ - belongs to<br>\n",
        "⊆ - subset<br>\n",
        "X : Ω → S - is read as \"X from Ω to S\"<br>\n",
        "R - real numbers<br>\n",
        "0 ≤ Pr(A) ≤ 1 for any event A<br>\n",
        "∩ - intersection, {1,2,3} ∩ {3,4,5} = {3}<br>\n",
        "∅ or {} - empty set<br>\n",
        "H ∩ T = ∅ - H and T are disjoint events<br>\n",
        "∪ - union, A ∪ B reads as A and B<br>\n",
        "Pr(A | B) - conditional probability of A given B<br>"
      ],
      "metadata": {
        "id": "gGxCaM4tIHGM"
      }
    },
    {
      "cell_type": "markdown",
      "source": [
        "### Sources\n",
        "\n",
        "[Essential Math for Data Science by Thomas Nield](https://download.bibis.ir/Books/Mathematics/2022/Essential-Math-for-Data-Science-by-Thomas-Nield_bibis.ir.pdf)\n",
        "- Probability (pages 72-101)\n",
        "- Deriving Bayes’ Theorem (pages 422-423)\n",
        "\n",
        "[Mathematical Foundations for Data Analysis by Jeff M. Phillips](https://users.cs.utah.edu/~jeffp/M4D/M4D-v0.4.pdf)\n",
        "- Probability Review (pages 9-18)\n",
        "\n",
        "[Glossary of mathematical symbols](https://en.wikipedia.org/wiki/Glossary_of_mathematical_symbols)"
      ],
      "metadata": {
        "id": "AdaQ_NZ_eeIS"
      }
    },
    {
      "cell_type": "markdown",
      "source": [
        "### Excersizes\n",
        "1. There is a 30% chance of rain today, and a 40% chance your umbrella order will arrive on time. You are eager to walk in the rain today and cannot do so without either!\n",
        "What is the probability it will rain AND your umbrella will arrive?\n",
        "\n",
        "\\begin{aligned}P\\left(it\\,rains\\right) =0.3\\\\\n",
        "P\\left( umbrella\\,arrives\\right) =0.4\\\\\n",
        "P\\begin{pmatrix}\n",
        "r\\,AND\\,u\n",
        "\\end{pmatrix}=?\\end{aligned}"
      ],
      "metadata": {
        "id": "I1IXlU85Uaep"
      }
    },
    {
      "cell_type": "markdown",
      "source": [
        "2. There is a 30% chance of rain today, and a 40% chance your umbrella order will arrive on time. You will be able to run errands only if it does not rain or your umbrella arrives.\n",
        "What is the probability it will not rain OR your umbrella arrives?\n",
        "\\begin{aligned}P\\left( no\\,rain\\right) =0.7\\\\\n",
        "P\\left( umbarella\\,arrives\\right) =0.4\\\\\n",
        "P\\left( no\\, rain\\,OR\\,umbrella\\,arrives\\right) =?\\end{aligned}\n"
      ],
      "metadata": {
        "id": "IfVnvMK0Uhrk"
      }
    },
    {
      "cell_type": "markdown",
      "source": [
        "3. There is a 30% chance of rain today, and a 40% chance your umbrella order will arrive on time.\n",
        "However, you found out if it rains there is only a 20% chance your umbrella will arrive on time.\n",
        "What is the probability it will rain AND your umbrella will arrive on time?\n",
        "\\begin{aligned}\n",
        "p\\left( r\\right) =0.3\\\\\n",
        "p\\left( u\\right) =0.4\\\\\n",
        "...\n",
        "\\end{aligned}\n"
      ],
      "metadata": {
        "id": "_F8o3uzyUkWt"
      }
    },
    {
      "cell_type": "markdown",
      "source": [
        "4. You have 137 passengers booked on a flight from Las Vegas to Dallas. However, it is Las Vegas on a Sunday morning and you estimate each passenger is 40% likely to not show up.\n",
        "You are trying to figure out how many seats to overbook so the plane does not fly empty.\n",
        "How likely is it at least 50 passengers will not show up?\n",
        "\\begin{aligned}\n",
        "bookings=137\\\\\n",
        "P\\left( no\\,show\\right) =0.4\\\\\n",
        "num\\,seats\\,to\\,overbook=?\\\\\n",
        "P\\left( P\\left( no\\,show\\right) =0.5\\right) =?\n",
        "\\end{aligned}\n"
      ],
      "metadata": {
        "id": "C0lPncqdUnM-"
      }
    },
    {
      "cell_type": "markdown",
      "source": [
        "5. You flipped a coin 19 times and got heads 15 times and tails 4 times.\n",
        "Do you think this coin has any good probability of being fair? Why or why not?"
      ],
      "metadata": {
        "id": "DAM3BYBxUpoF"
      }
    },
    {
      "cell_type": "markdown",
      "source": [
        "### Answers / solutions"
      ],
      "metadata": {
        "id": "n3GAH8TWZVuE"
      }
    },
    {
      "cell_type": "markdown",
      "source": [
        "1. Joint probability<br>\n",
        "\\begin{aligned}\n",
        "P\\left(it\\,rains\\right) =0.3\\\\\n",
        "P\\left( umbrella\\,arrives\\right) =0.4\\\\\n",
        "P\\begin{pmatrix}\n",
        "it\\,rains\\,AND\\,umbrella\\,arrives\n",
        "\\end{pmatrix}= \\dfrac{3}{10}\\times \\dfrac{4}{10}=\\dfrac{12}{100}=0.12 =12\\% \\end{aligned}"
      ],
      "metadata": {
        "id": "soYX96qraWJO"
      }
    },
    {
      "cell_type": "markdown",
      "source": [
        "2. Sum rule of probability\n",
        "\\begin{aligned}\n",
        "P\\left( no\\,rain\\right) =0.7\\\\\n",
        "P\\left( umbarella\\,arrives\\right) =0.4\\\\\n",
        "P\\left( no\\, rain\\,OR\\,umbrella\\,arrives\\right) =?\n",
        "\\end{aligned}\n",
        "Sum rule formula:\n",
        "\\begin{aligned}\n",
        "P\\left( A\\,OR\\,B\\right) =P\\left( A\\right) +P\\left( B\\right) -P\\left( A\\,AND\\,B\\right) \\\\\n",
        "=P\\left( A\\right) +P\\left( B\\right) -P\\left( A\\right) *P\\left( B\\right)\n",
        "\\end{aligned}\n",
        "Solution:\n",
        "\\begin{aligned}\n",
        "P\\left( no\\,rain\\,OR\\,umbrella\\,arrives\\right) =0.7+0.4-0.7\\times 0.4 = 0.82\n",
        "\\end{aligned}"
      ],
      "metadata": {
        "id": "xNU1zSan8rez"
      }
    },
    {
      "cell_type": "markdown",
      "source": [
        "3. Conditional probability and Baye's theorem\n",
        "\\begin{aligned}\n",
        "p\\left( r\\right) =0.3\\\\\n",
        "p\\left( u\\right) =0.4\\\\\n",
        "P\\left( u| r\\right) =0.2\\\\\n",
        "P\\left( r\\,AND\\,u\\right) =\\dfrac{3}{10}\\times \\dfrac{2}{10}=\\dfrac{6}{100}=0.06\n",
        "\\end{aligned}"
      ],
      "metadata": {
        "id": "j5vEwACTEDqy"
      }
    },
    {
      "cell_type": "code",
      "source": [
        "#4. Beta distribution\n",
        "\n",
        "from scipy.stats import binom\n",
        "import matplotlib.pyplot as plt\n",
        "\n",
        "def probability():\n",
        "  n = 147 #num of trials\n",
        "  p = 0.4 #success rate\n",
        "  n_passangers = []\n",
        "  probabilities_list = []\n",
        "\n",
        "  for k in range(n+1):\n",
        "    probability = binom.pmf(k, n, p)\n",
        "    n_passangers.append(k)\n",
        "    probabilities_list.append(probability)\n",
        "\n",
        "  plot(n_passangers, \"passangers\", probabilities_list, \"probability\")\n",
        "\n",
        "def plot(y_values, y_label, x_values, x_label):\n",
        "  plt.plot(y_values, x_values)\n",
        "  plt.ylabel(y_label)\n",
        "  plt.xlabel(x_label)\n",
        "  plt.show()\n",
        "\n",
        "probability()"
      ],
      "metadata": {
        "colab": {
          "base_uri": "https://localhost:8080/",
          "height": 453
        },
        "id": "ZK1axXdrObgL",
        "outputId": "eb5bbb6c-2270-4679-a6bc-e8d423f262f8"
      },
      "execution_count": 9,
      "outputs": [
        {
          "output_type": "display_data",
          "data": {
            "text/plain": [
              "<Figure size 640x480 with 1 Axes>"
            ],
            "image/png": "[encoded data removed]"
          },
          "metadata": {}
        }
      ]
    }
  ]
}